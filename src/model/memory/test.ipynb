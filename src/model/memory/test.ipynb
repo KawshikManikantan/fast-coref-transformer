{
 "cells": [
  {
   "cell_type": "code",
   "execution_count": 6,
   "metadata": {},
   "outputs": [
    {
     "name": "stdout",
     "output_type": "stream",
     "text": [
      "torch.Size([128, 4, 1024])\n",
      "torch.Size([39, 4, 1024])\n"
     ]
    }
   ],
   "source": [
    "import torch\n",
    "import torch.nn as nn\n",
    "from torch.utils.data import DataLoader, TensorDataset\n",
    "\n",
    "memory = torch.randn(167, 4, 1024)\n",
    "target = torch.randn(167, 4, 1024)\n",
    "\n",
    "# Create a TensorDataset\n",
    "dataset = TensorDataset(memory)\n",
    "\n",
    "# Create a DataLoader with the desired batch size\n",
    "dataloader = DataLoader(dataset, batch_size=128)\n",
    "\n",
    "for memory_batch in dataloader:\n",
    "    print(memory_batch[0].shape)\n",
    "# decoder_layer = nn.TransformerDecoderLayer(d_model=1024, nhead=4,batch_first=True)\n",
    "# decoder = nn.TransformerDecoder(decoder_layer, num_layers=2)\n",
    "# decoder(memory, target)"
   ]
  },
  {
   "cell_type": "code",
   "execution_count": null,
   "metadata": {},
   "outputs": [],
   "source": []
  }
 ],
 "metadata": {
  "kernelspec": {
   "display_name": "myenv",
   "language": "python",
   "name": "python3"
  },
  "language_info": {
   "codemirror_mode": {
    "name": "ipython",
    "version": 3
   },
   "file_extension": ".py",
   "mimetype": "text/x-python",
   "name": "python",
   "nbconvert_exporter": "python",
   "pygments_lexer": "ipython3",
   "version": "3.8.18"
  }
 },
 "nbformat": 4,
 "nbformat_minor": 2
}
