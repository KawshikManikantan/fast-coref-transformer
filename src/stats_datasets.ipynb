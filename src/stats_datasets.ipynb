{
 "cells": [
  {
   "cell_type": "code",
   "execution_count": null,
   "metadata": {},
   "outputs": [],
   "source": [
    "import os\n",
    "import json\n",
    "import pandas as pd\n",
    "import dtale\n",
    "import numpy as np"
   ]
  },
  {
   "cell_type": "code",
   "execution_count": null,
   "metadata": {},
   "outputs": [],
   "source": [
    "splits = [\"train\",\"dev\",\"test\"]\n",
    "datasets = [\"ontonotes\",\"litbank\",\"preco\"]\n",
    "base_data_dir = \"../../coref_resources/data/\"\n",
    "model_name = \"longformer_speaker\"\n",
    "cross_val_split = \"0\""
   ]
  },
  {
   "cell_type": "code",
   "execution_count": null,
   "metadata": {},
   "outputs": [],
   "source": [
    "all_splits = []\n",
    "for split in splits:\n",
    "    split_data = []\n",
    "    for dataset in datasets:\n",
    "        data_dir = os.path.join(base_data_dir,dataset,model_name)\n",
    "        print(data_dir)\n",
    "        if dataset == \"litbank\":\n",
    "            data_dir = os.path.join(data_dir,cross_val_split)\n",
    "        \n",
    "        jsonl_file = os.path.join(data_dir, f'{split}.4096.jsonlines')\n",
    "        if jsonl_file is None:\n",
    "            raise ValueError(f\"No relevant files at {data_dir}\")\n",
    "        \n",
    "        with open(jsonl_file) as f:\n",
    "            for line in f:\n",
    "                load_dict = json.loads(line.strip())\n",
    "                load_dict[\"dataset_name\"] = dataset\n",
    "                split_data.append(load_dict)\n",
    "    all_splits.append(split_data)\n",
    "\n",
    "train_data, dev_data, test_data = all_splits"
   ]
  },
  {
   "cell_type": "code",
   "execution_count": null,
   "metadata": {},
   "outputs": [],
   "source": [
    "mention_counts = []\n",
    "mention_lengths = []\n",
    "entity_counts = []\n",
    "\n",
    "for document in train_data:\n",
    "    # print(document.keys())\n",
    "    entity_counts.append(len(document[\"clusters\"]))\n",
    "    \n",
    "    mention_count = 0\n",
    "    for cluster in document[\"clusters\"]:\n",
    "        mention_count += len(cluster)\n",
    "    if document[\"doc_key\"] == \"pt/nt/47/nt_4711_0\":\n",
    "        print(mention_count)\n",
    "        print(sum([len(cluster) for cluster in document[\"clusters\"]]))\n",
    "        print(entity_counts[-1])\n",
    "    mention_counts.append(mention_count)\n",
    "    \n",
    "    for cluster in document[\"clusters\"]:\n",
    "        for mention in cluster:\n",
    "            mention_lengths.append(mention[1] - mention[0] + 1)\n"
   ]
  },
  {
   "cell_type": "code",
   "execution_count": null,
   "metadata": {},
   "outputs": [],
   "source": [
    "entity_counts = np.array(entity_counts)\n",
    "mention_counts = np.array(mention_counts)\n",
    "mention_lengths = np.array(mention_lengths)\n",
    "\n",
    "entity_counts_series = pd.Series(entity_counts)\n",
    "mention_counts_series = pd.Series(mention_counts)\n",
    "mention_lengths_series = pd.Series(mention_lengths)\n",
    "\n",
    "print(entity_counts_series.describe())\n",
    "print(mention_counts_series.describe())\n",
    "print(mention_lengths_series.describe())"
   ]
  },
  {
   "cell_type": "code",
   "execution_count": null,
   "metadata": {},
   "outputs": [],
   "source": [
    "mention_counts[mention_counts > 350]"
   ]
  },
  {
   "cell_type": "code",
   "execution_count": null,
   "metadata": {},
   "outputs": [],
   "source": [
    "mention_lengths[mention_lengths > 20].shape[0]/mention_lengths.shape[0]"
   ]
  },
  {
   "cell_type": "code",
   "execution_count": null,
   "metadata": {},
   "outputs": [],
   "source": [
    "mention_counts_series.hist(bins=100)"
   ]
  },
  {
   "cell_type": "code",
   "execution_count": null,
   "metadata": {},
   "outputs": [],
   "source": []
  }
 ],
 "metadata": {
  "kernelspec": {
   "display_name": "myenv",
   "language": "python",
   "name": "python3"
  },
  "language_info": {
   "codemirror_mode": {
    "name": "ipython",
    "version": 3
   },
   "file_extension": ".py",
   "mimetype": "text/x-python",
   "name": "python",
   "nbconvert_exporter": "python",
   "pygments_lexer": "ipython3",
   "version": "3.8.18"
  }
 },
 "nbformat": 4,
 "nbformat_minor": 2
}
